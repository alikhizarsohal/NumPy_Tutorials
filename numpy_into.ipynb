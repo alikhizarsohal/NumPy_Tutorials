{
 "cells": [
  {
   "cell_type": "markdown",
   "metadata": {},
   "source": [
    "# Numpy Introduction\n",
    "(Numerical Python)\n",
    "# What is NumPy?\n",
    "NumPy is a Python library used for working with arrays.\n",
    "\n",
    "It also has functions for working in domain of linear algebra, fourier transform, and matrices.\n",
    "\n",
    "NumPy was created in 2005 by Travis Oliphant. It is an open source project and you can use it freely.\n",
    "\n",
    "NumPy stands for Numerical Python.\n",
    "\n",
    "# Why Use NumPy?\n",
    "In Python we have lists that serve the purpose of arrays, but they are slow to process.\n",
    "\n",
    "NumPy aims to provide an array object that is up to 50x faster than traditional Python lists.\n",
    "\n",
    "The array object in NumPy is called ndarray, it provides a lot of supporting functions that make working with ndarray very easy.\n",
    "\n",
    "Arrays are very frequently used in data science, where speed and resources are very important.\n",
    "\n",
    "\n",
    "# Why is NumPy Faster Than Lists?\n",
    "NumPy arrays are stored at one continuous place in memory unlike lists, so processes can access and manipulate them very efficiently.\n",
    "\n",
    "This behavior is called locality of reference in computer science.\n",
    "\n",
    "This is the main reason why NumPy is faster than lists. Also it is optimized to work with latest CPU architectures.\n",
    "\n",
    "# Which Language is NumPy written in?\n",
    "NumPy is a Python library and is written partially in Python, but most of the parts that require fast computation are written in C or C++."
   ]
  },
  {
   "cell_type": "code",
   "execution_count": 28,
   "metadata": {},
   "outputs": [
    {
     "name": "stdout",
     "output_type": "stream",
     "text": [
      "['1' '2' '3' '4' '5' '6' '7' 'rather']\n",
      "<class 'numpy.ndarray'>\n",
      "<class 'numpy.str_'>\n",
      "12\n"
     ]
    }
   ],
   "source": [
    "import numpy as np\n",
    "\n",
    "# if onew string character is used in an array it will assue whole array to be like a string array\n",
    "arr = np.array([1,2,3,4,5,6,7,'rather'])\n",
    "print(arr)\n",
    "print(type(arr))\n",
    "print(type(arr[0]))\n",
    "print(arr[0]+arr[1])\n"
   ]
  },
  {
   "cell_type": "code",
   "execution_count": 29,
   "metadata": {},
   "outputs": [
    {
     "name": "stdout",
     "output_type": "stream",
     "text": [
      "[1 2 3 4 5 6 7]\n",
      "<class 'numpy.ndarray'>\n",
      "<class 'numpy.int32'>\n",
      "Sum =  3\n",
      "[1.1 2.  3.  4.  5.  6.  7. ]\n",
      "<class 'numpy.float64'>\n",
      "Sum = 3.1 aa ok\n"
     ]
    }
   ],
   "source": [
    "# but if all are the numbers then it will consoider them as the numbers\n",
    "arr = np.array([1,2,3,4,5,6,7])\n",
    "print(arr)\n",
    "print(type(arr))\n",
    "print(type(arr[0]))\n",
    "print(\"Sum = \",arr[0]+arr[1])\n",
    "\n",
    "arr = np.array([1.1,2,3,4,5,6,7])\n",
    "print(arr)\n",
    "print(type(arr[0]))\n",
    "print(\"Sum =\",arr[0]+arr[1],\"aa ok\")"
   ]
  },
  {
   "cell_type": "code",
   "execution_count": 25,
   "metadata": {},
   "outputs": [
    {
     "name": "stdout",
     "output_type": "stream",
     "text": [
      "Python Version 3.11.5\n",
      "NumPy Version 1.24.3\n"
     ]
    }
   ],
   "source": [
    "# to check the python and the numpy version \n",
    "import platform\n",
    "print(\"Python Version\",platform.python_version())\n",
    "print(\"NumPy Version\",np.__version__)"
   ]
  },
  {
   "cell_type": "markdown",
   "metadata": {},
   "source": [
    "# Dimensions in arrays"
   ]
  },
  {
   "cell_type": "markdown",
   "metadata": {},
   "source": [
    "# 0-D Arrays (scalars)"
   ]
  },
  {
   "cell_type": "code",
   "execution_count": 31,
   "metadata": {},
   "outputs": [
    {
     "name": "stdout",
     "output_type": "stream",
     "text": [
      "9110\n"
     ]
    }
   ],
   "source": [
    "arr = np.array(9110)\n",
    "print(arr)"
   ]
  },
  {
   "cell_type": "markdown",
   "metadata": {},
   "source": [
    "# 1-D Arrays\n",
    "uni-dimensional arrays containing the lements of 0-d arrays"
   ]
  },
  {
   "cell_type": "code",
   "execution_count": 32,
   "metadata": {},
   "outputs": [
    {
     "name": "stdout",
     "output_type": "stream",
     "text": [
      "Array :  [0 1 2 3 4 5 6 7 8 9]\n"
     ]
    }
   ],
   "source": [
    "arr = np.array([0,1,2,3,4,5,6,7,8,9])\n",
    "print(\"Array : \",arr)"
   ]
  },
  {
   "cell_type": "markdown",
   "metadata": {},
   "source": [
    "# 2-D Arrays\n",
    "two dimensional arrays containing 1-d arrays as their elements "
   ]
  },
  {
   "cell_type": "code",
   "execution_count": 35,
   "metadata": {},
   "outputs": [
    {
     "name": "stdout",
     "output_type": "stream",
     "text": [
      "2d Array \n",
      " [[1 2]\n",
      " [3 4]]\n"
     ]
    }
   ],
   "source": [
    "arr = np.array([[1,2], [3,4]])\n",
    "print(\"2d Array \\n\",arr)"
   ]
  },
  {
   "cell_type": "markdown",
   "metadata": {},
   "source": [
    "# 3-D Arrays \n",
    "three dimensional arrays containing 2-d arrays as their elements"
   ]
  },
  {
   "cell_type": "code",
   "execution_count": 36,
   "metadata": {},
   "outputs": [
    {
     "name": "stdout",
     "output_type": "stream",
     "text": [
      "3d Array \n",
      " [[[1 2]\n",
      "  [3 4]]\n",
      "\n",
      " [[2 1]\n",
      "  [4 3]]]\n"
     ]
    }
   ],
   "source": [
    "arr = np.array([[[1,2],[3,4]], [[2,1],[ 4,3]]])\n",
    "print(\"3d Array \\n\",arr)"
   ]
  },
  {
   "cell_type": "markdown",
   "metadata": {},
   "source": [
    "# Checking the number of dimensions of an array\n",
    "there is an attribute in python named \"ndim\" that returns an integer telling the number of dimensions that an array have"
   ]
  },
  {
   "cell_type": "code",
   "execution_count": 37,
   "metadata": {},
   "outputs": [
    {
     "name": "stdout",
     "output_type": "stream",
     "text": [
      "Dimensions of above array :  3\n"
     ]
    }
   ],
   "source": [
    "print(\"Dimensions of above array : \",arr.ndim)"
   ]
  },
  {
   "cell_type": "markdown",
   "metadata": {},
   "source": [
    "# Specify Higher Dimensional Arrays\n",
    "an array can be defined to have a specific number of dimensions using  \"ndmin\" argument"
   ]
  },
  {
   "cell_type": "code",
   "execution_count": 63,
   "metadata": {},
   "outputs": [
    {
     "name": "stdout",
     "output_type": "stream",
     "text": [
      "1\n",
      "[1 2 3 4]\n",
      "[[1 2 3 4]]\n",
      "[[[1 2 3 4]]]\n",
      "[[[[1 2 3 4]]]]\n",
      "[[[[[1 2 3 4]]]]]\n",
      "Number of dimensions :  5\n"
     ]
    }
   ],
   "source": [
    "arr = np.array([1,2,3,4], ndmin=5)\n",
    "print(arr[0][0][0][0][0])\n",
    "print(arr[0][0][0][0])\n",
    "print(arr[0][0][0])\n",
    "print(arr[0][0])\n",
    "print(arr[0])\n",
    "print(arr)\n",
    "print(\"Number of dimensions : \", arr.ndim)"
   ]
  },
  {
   "cell_type": "markdown",
   "metadata": {},
   "source": [
    "# Array Indexing"
   ]
  },
  {
   "cell_type": "markdown",
   "metadata": {},
   "source": [
    "1-D Array Indexing"
   ]
  },
  {
   "cell_type": "code",
   "execution_count": 65,
   "metadata": {},
   "outputs": [
    {
     "name": "stdout",
     "output_type": "stream",
     "text": [
      "2\n"
     ]
    }
   ],
   "source": [
    "arr = np.array([1,2,3,4,5])\n",
    "print(arr[1])"
   ]
  },
  {
   "cell_type": "markdown",
   "metadata": {},
   "source": [
    "2-D Array Indexing"
   ]
  },
  {
   "cell_type": "code",
   "execution_count": 68,
   "metadata": {},
   "outputs": [
    {
     "name": "stdout",
     "output_type": "stream",
     "text": [
      "2\n"
     ]
    }
   ],
   "source": [
    "arr = np.array([[1,2,7],[3,4,5]])\n",
    "print(arr[0,1])"
   ]
  },
  {
   "cell_type": "markdown",
   "metadata": {},
   "source": [
    "3-D Array Indexing"
   ]
  },
  {
   "cell_type": "code",
   "execution_count": 79,
   "metadata": {},
   "outputs": [
    {
     "name": "stdout",
     "output_type": "stream",
     "text": [
      "Index [1] : \n",
      " [[ 2  1  9]\n",
      " [ 4  3 11]]\n",
      "Index [1,1] : \n",
      " [ 4  3 11]\n",
      "Index [1,1,1] : \n",
      " 3\n"
     ]
    }
   ],
   "source": [
    "arr = np.array([[[1,2,6],[3,4,7]],[[2,1,9],[4,3,11]]])\n",
    "print(\"Index [1] : \\n\",arr[1])\n",
    "print(\"Index [1,1] : \\n\",arr[1,1])\n",
    "print(\"Index [1,1,1] : \\n\",arr[1,1,1])"
   ]
  },
  {
   "cell_type": "markdown",
   "metadata": {},
   "source": [
    "Negative Indexing"
   ]
  },
  {
   "cell_type": "code",
   "execution_count": 93,
   "metadata": {},
   "outputs": [
    {
     "name": "stdout",
     "output_type": "stream",
     "text": [
      "Index [-1] : \n",
      " [[ 2  1  9]\n",
      " [ 4  3 11]]\n",
      "Index [1,-1] :  [ 4  3 11]\n",
      "Index [1,1,-1] :  4\n",
      "Index [1,1,-1] :  11\n",
      "Index [1,1,-1] :  3\n"
     ]
    }
   ],
   "source": [
    "print(\"Index [-1] : \\n\",arr[-1])\n",
    "print(\"Index [1,-1] : \",arr[1,-1])\n",
    "print(\"Index [1,1,-1] : \",arr[1,1,-0])\n",
    "print(\"Index [1,1,-1] : \",arr[1,1,-1])\n",
    "print(\"Index [1,1,-1] : \",arr[1,1,-2])"
   ]
  },
  {
   "cell_type": "code",
   "execution_count": null,
   "metadata": {},
   "outputs": [],
   "source": []
  }
 ],
 "metadata": {
  "kernelspec": {
   "display_name": "base",
   "language": "python",
   "name": "python3"
  },
  "language_info": {
   "codemirror_mode": {
    "name": "ipython",
    "version": 3
   },
   "file_extension": ".py",
   "mimetype": "text/x-python",
   "name": "python",
   "nbconvert_exporter": "python",
   "pygments_lexer": "ipython3",
   "version": "3.11.5"
  }
 },
 "nbformat": 4,
 "nbformat_minor": 2
}
